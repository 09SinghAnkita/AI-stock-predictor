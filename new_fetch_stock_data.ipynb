{
 "cells": [
  {
   "cell_type": "code",
   "execution_count": 3,
   "id": "9a83f7a4-346f-46ea-a24b-d67cf1762d59",
   "metadata": {},
   "outputs": [
    {
     "name": "stdout",
     "output_type": "stream",
     "text": [
      "C:\\Users\\Win\\Desktop\\Project\\jupyter_env\\jupyter\\Scripts\\python.exe\n",
      "C:\\Users\\Win\\AppData\\Local\\Programs\\Python\\Python311\\python.exe\n",
      "C:\\Users\\Win\\AppData\\Local\\Microsoft\\WindowsApps\\python.exe\n"
     ]
    }
   ],
   "source": [
    "!where python"
   ]
  },
  {
   "cell_type": "code",
   "execution_count": 4,
   "id": "a08dadcd-1248-42f3-a8d7-a20a95b21cb5",
   "metadata": {},
   "outputs": [
    {
     "name": "stdout",
     "output_type": "stream",
     "text": [
      "Requirement already satisfied: django in c:\\users\\win\\desktop\\project\\jupyter_env\\jupyter\\lib\\site-packages (5.1.1)\n",
      "Requirement already satisfied: asgiref<4,>=3.8.1 in c:\\users\\win\\desktop\\project\\jupyter_env\\jupyter\\lib\\site-packages (from django) (3.8.1)\n",
      "Requirement already satisfied: sqlparse>=0.3.1 in c:\\users\\win\\desktop\\project\\jupyter_env\\jupyter\\lib\\site-packages (from django) (0.5.1)\n",
      "Requirement already satisfied: tzdata in c:\\users\\win\\desktop\\project\\jupyter_env\\jupyter\\lib\\site-packages (from django) (2024.2)\n"
     ]
    },
    {
     "name": "stderr",
     "output_type": "stream",
     "text": [
      "\n",
      "[notice] A new release of pip is available: 23.1.2 -> 24.2\n",
      "[notice] To update, run: python.exe -m pip install --upgrade pip\n"
     ]
    },
    {
     "name": "stdout",
     "output_type": "stream",
     "text": [
      "Collecting celery\n",
      "  Using cached celery-5.4.0-py3-none-any.whl (425 kB)\n",
      "Collecting billiard<5.0,>=4.2.0 (from celery)\n",
      "  Using cached billiard-4.2.1-py3-none-any.whl (86 kB)\n",
      "Collecting kombu<6.0,>=5.3.4 (from celery)\n",
      "  Using cached kombu-5.4.2-py3-none-any.whl (201 kB)\n",
      "Collecting vine<6.0,>=5.1.0 (from celery)\n",
      "  Using cached vine-5.1.0-py3-none-any.whl (9.6 kB)\n",
      "Collecting click<9.0,>=8.1.2 (from celery)\n",
      "  Using cached click-8.1.7-py3-none-any.whl (97 kB)\n",
      "Collecting click-didyoumean>=0.3.0 (from celery)\n",
      "  Using cached click_didyoumean-0.3.1-py3-none-any.whl (3.6 kB)\n",
      "Collecting click-repl>=0.2.0 (from celery)\n",
      "  Using cached click_repl-0.3.0-py3-none-any.whl (10 kB)\n",
      "Collecting click-plugins>=1.1.1 (from celery)\n",
      "  Using cached click_plugins-1.1.1-py2.py3-none-any.whl (7.5 kB)\n",
      "Requirement already satisfied: tzdata>=2022.7 in c:\\users\\win\\desktop\\project\\jupyter_env\\jupyter\\lib\\site-packages (from celery) (2024.2)\n",
      "Requirement already satisfied: python-dateutil>=2.8.2 in c:\\users\\win\\desktop\\project\\jupyter_env\\jupyter\\lib\\site-packages (from celery) (2.9.0.post0)\n",
      "Requirement already satisfied: colorama in c:\\users\\win\\desktop\\project\\jupyter_env\\jupyter\\lib\\site-packages (from click<9.0,>=8.1.2->celery) (0.4.6)\n",
      "Requirement already satisfied: prompt-toolkit>=3.0.36 in c:\\users\\win\\desktop\\project\\jupyter_env\\jupyter\\lib\\site-packages (from click-repl>=0.2.0->celery) (3.0.48)\n",
      "Collecting amqp<6.0.0,>=5.1.1 (from kombu<6.0,>=5.3.4->celery)\n",
      "  Using cached amqp-5.2.0-py3-none-any.whl (50 kB)\n",
      "Requirement already satisfied: six>=1.5 in c:\\users\\win\\desktop\\project\\jupyter_env\\jupyter\\lib\\site-packages (from python-dateutil>=2.8.2->celery) (1.16.0)\n",
      "Requirement already satisfied: wcwidth in c:\\users\\win\\desktop\\project\\jupyter_env\\jupyter\\lib\\site-packages (from prompt-toolkit>=3.0.36->click-repl>=0.2.0->celery) (0.2.13)\n",
      "Installing collected packages: vine, click, billiard, click-repl, click-plugins, click-didyoumean, amqp, kombu, celery\n",
      "Successfully installed amqp-5.2.0 billiard-4.2.1 celery-5.4.0 click-8.1.7 click-didyoumean-0.3.1 click-plugins-1.1.1 click-repl-0.3.0 kombu-5.4.2 vine-5.1.0\n"
     ]
    },
    {
     "name": "stderr",
     "output_type": "stream",
     "text": [
      "\n",
      "[notice] A new release of pip is available: 23.1.2 -> 24.2\n",
      "[notice] To update, run: python.exe -m pip install --upgrade pip\n"
     ]
    },
    {
     "name": "stdout",
     "output_type": "stream",
     "text": [
      "Requirement already satisfied: mysqlclient in c:\\users\\win\\desktop\\project\\jupyter_env\\jupyter\\lib\\site-packages (2.2.4)\n"
     ]
    },
    {
     "name": "stderr",
     "output_type": "stream",
     "text": [
      "\n",
      "[notice] A new release of pip is available: 23.1.2 -> 24.2\n",
      "[notice] To update, run: python.exe -m pip install --upgrade pip\n"
     ]
    },
    {
     "name": "stdout",
     "output_type": "stream",
     "text": [
      "Collecting redis\n",
      "  Downloading redis-5.1.1-py3-none-any.whl (261 kB)\n",
      "                                              0.0/261.3 kB ? eta -:--:--\n",
      "     --------------------                   143.4/261.3 kB 2.8 MB/s eta 0:00:01\n",
      "     -------------------------------------- 261.3/261.3 kB 3.2 MB/s eta 0:00:00\n",
      "Installing collected packages: redis\n",
      "Successfully installed redis-5.1.1\n"
     ]
    },
    {
     "name": "stderr",
     "output_type": "stream",
     "text": [
      "\n",
      "[notice] A new release of pip is available: 23.1.2 -> 24.2\n",
      "[notice] To update, run: python.exe -m pip install --upgrade pip\n"
     ]
    }
   ],
   "source": [
    "!pip install django\n",
    "!pip install celery\n",
    "!pip install mysqlclient\n",
    "!pip install redis\n"
   ]
  },
  {
   "cell_type": "code",
   "execution_count": 8,
   "id": "376db83d-071a-4bd0-9e14-1584e9b28292",
   "metadata": {},
   "outputs": [
    {
     "name": "stdout",
     "output_type": "stream",
     "text": [
      "Requirement already satisfied: amqp==5.2.0 in c:\\users\\win\\desktop\\project\\jupyter_env\\jupyter\\lib\\site-packages (from -r requirements.txt (line 1)) (5.2.0)\n",
      "Requirement already satisfied: asgiref==3.8.1 in c:\\users\\win\\desktop\\project\\jupyter_env\\jupyter\\lib\\site-packages (from -r requirements.txt (line 2)) (3.8.1)\n",
      "Requirement already satisfied: billiard==4.2.1 in c:\\users\\win\\desktop\\project\\jupyter_env\\jupyter\\lib\\site-packages (from -r requirements.txt (line 3)) (4.2.1)\n",
      "Requirement already satisfied: celery==5.4.0 in c:\\users\\win\\desktop\\project\\jupyter_env\\jupyter\\lib\\site-packages (from -r requirements.txt (line 4)) (5.4.0)\n",
      "Requirement already satisfied: certifi==2024.8.30 in c:\\users\\win\\desktop\\project\\jupyter_env\\jupyter\\lib\\site-packages (from -r requirements.txt (line 5)) (2024.8.30)\n",
      "Requirement already satisfied: charset-normalizer==3.3.2 in c:\\users\\win\\desktop\\project\\jupyter_env\\jupyter\\lib\\site-packages (from -r requirements.txt (line 6)) (3.3.2)\n",
      "Requirement already satisfied: click==8.1.7 in c:\\users\\win\\desktop\\project\\jupyter_env\\jupyter\\lib\\site-packages (from -r requirements.txt (line 7)) (8.1.7)\n",
      "Requirement already satisfied: click-didyoumean==0.3.1 in c:\\users\\win\\desktop\\project\\jupyter_env\\jupyter\\lib\\site-packages (from -r requirements.txt (line 8)) (0.3.1)\n",
      "Requirement already satisfied: click-plugins==1.1.1 in c:\\users\\win\\desktop\\project\\jupyter_env\\jupyter\\lib\\site-packages (from -r requirements.txt (line 9)) (1.1.1)\n",
      "Requirement already satisfied: click-repl==0.3.0 in c:\\users\\win\\desktop\\project\\jupyter_env\\jupyter\\lib\\site-packages (from -r requirements.txt (line 10)) (0.3.0)\n",
      "Requirement already satisfied: colorama==0.4.6 in c:\\users\\win\\desktop\\project\\jupyter_env\\jupyter\\lib\\site-packages (from -r requirements.txt (line 11)) (0.4.6)\n",
      "Collecting cron-descriptor==1.4.5 (from -r requirements.txt (line 12))\n",
      "  Using cached cron_descriptor-1.4.5-py3-none-any.whl (50 kB)\n",
      "Requirement already satisfied: Django==5.1.1 in c:\\users\\win\\desktop\\project\\jupyter_env\\jupyter\\lib\\site-packages (from -r requirements.txt (line 13)) (5.1.1)\n",
      "Collecting django-celery-beat==2.7.0 (from -r requirements.txt (line 14))\n",
      "  Using cached django_celery_beat-2.7.0-py3-none-any.whl (94 kB)\n",
      "Collecting django-redis==5.4.0 (from -r requirements.txt (line 15))\n",
      "  Using cached django_redis-5.4.0-py3-none-any.whl (31 kB)\n",
      "Collecting django-timezone-field==7.0 (from -r requirements.txt (line 16))\n",
      "  Using cached django_timezone_field-7.0-py3-none-any.whl (13 kB)\n",
      "Collecting djangorestframework==3.15.2 (from -r requirements.txt (line 17))\n",
      "  Using cached djangorestframework-3.15.2-py3-none-any.whl (1.1 MB)\n",
      "Requirement already satisfied: idna==3.10 in c:\\users\\win\\desktop\\project\\jupyter_env\\jupyter\\lib\\site-packages (from -r requirements.txt (line 18)) (3.10)\n",
      "Requirement already satisfied: kombu==5.4.2 in c:\\users\\win\\desktop\\project\\jupyter_env\\jupyter\\lib\\site-packages (from -r requirements.txt (line 19)) (5.4.2)\n",
      "Requirement already satisfied: mysqlclient==2.2.4 in c:\\users\\win\\desktop\\project\\jupyter_env\\jupyter\\lib\\site-packages (from -r requirements.txt (line 20)) (2.2.4)\n",
      "Requirement already satisfied: prompt_toolkit==3.0.48 in c:\\users\\win\\desktop\\project\\jupyter_env\\jupyter\\lib\\site-packages (from -r requirements.txt (line 21)) (3.0.48)\n",
      "Collecting python-crontab==3.2.0 (from -r requirements.txt (line 22))\n",
      "  Using cached python_crontab-3.2.0-py3-none-any.whl (27 kB)\n",
      "Requirement already satisfied: python-dateutil==2.9.0.post0 in c:\\users\\win\\desktop\\project\\jupyter_env\\jupyter\\lib\\site-packages (from -r requirements.txt (line 23)) (2.9.0.post0)\n",
      "Collecting redis==5.1.0 (from -r requirements.txt (line 24))\n",
      "  Using cached redis-5.1.0-py3-none-any.whl (261 kB)\n",
      "Requirement already satisfied: requests==2.32.3 in c:\\users\\win\\desktop\\project\\jupyter_env\\jupyter\\lib\\site-packages (from -r requirements.txt (line 25)) (2.32.3)\n",
      "Requirement already satisfied: six==1.16.0 in c:\\users\\win\\desktop\\project\\jupyter_env\\jupyter\\lib\\site-packages (from -r requirements.txt (line 26)) (1.16.0)\n",
      "Requirement already satisfied: sqlparse==0.5.1 in c:\\users\\win\\desktop\\project\\jupyter_env\\jupyter\\lib\\site-packages (from -r requirements.txt (line 27)) (0.5.1)\n",
      "Requirement already satisfied: tzdata==2024.2 in c:\\users\\win\\desktop\\project\\jupyter_env\\jupyter\\lib\\site-packages (from -r requirements.txt (line 28)) (2024.2)\n",
      "Requirement already satisfied: urllib3==2.2.3 in c:\\users\\win\\desktop\\project\\jupyter_env\\jupyter\\lib\\site-packages (from -r requirements.txt (line 29)) (2.2.3)\n",
      "Requirement already satisfied: vine==5.1.0 in c:\\users\\win\\desktop\\project\\jupyter_env\\jupyter\\lib\\site-packages (from -r requirements.txt (line 30)) (5.1.0)\n",
      "Requirement already satisfied: wcwidth==0.2.13 in c:\\users\\win\\desktop\\project\\jupyter_env\\jupyter\\lib\\site-packages (from -r requirements.txt (line 31)) (0.2.13)\n",
      "Installing collected packages: cron-descriptor, redis, python-crontab, djangorestframework, django-timezone-field, django-redis, django-celery-beat\n",
      "  Attempting uninstall: redis\n",
      "    Found existing installation: redis 5.1.1\n",
      "    Uninstalling redis-5.1.1:\n",
      "      Successfully uninstalled redis-5.1.1\n",
      "Successfully installed cron-descriptor-1.4.5 django-celery-beat-2.7.0 django-redis-5.4.0 django-timezone-field-7.0 djangorestframework-3.15.2 python-crontab-3.2.0 redis-5.1.0\n"
     ]
    },
    {
     "name": "stderr",
     "output_type": "stream",
     "text": [
      "\n",
      "[notice] A new release of pip is available: 23.1.2 -> 24.2\n",
      "[notice] To update, run: python.exe -m pip install --upgrade pip\n"
     ]
    }
   ],
   "source": [
    "!pip install -r requirements.txt"
   ]
  },
  {
   "cell_type": "code",
   "execution_count": 1,
   "id": "13900fce-1d19-4d97-87ac-8b885d5be5ec",
   "metadata": {},
   "outputs": [],
   "source": [
    "import os\n",
    "import sys\n",
    "import django\n",
    "from django.apps import apps\n",
    "\n",
    "# Set the path to your Django project\n",
    "sys.path.append('C:/Users/Win/Desktop/Project/Stock Project')\n",
    "\n",
    "# Set the Django settings module\n",
    "os.environ.setdefault('DJANGO_SETTINGS_MODULE', 'stocks_simplified.settings')\n",
    "\n",
    "# Only run setup if Django is not already set up\n",
    "if not apps.ready:\n",
    "    django.setup()\n"
   ]
  },
  {
   "cell_type": "code",
   "execution_count": 2,
   "id": "3cde583a-44cd-408f-921d-450cd9c85629",
   "metadata": {},
   "outputs": [
    {
     "name": "stdout",
     "output_type": "stream",
     "text": [
      "  stock__symbol        date open_price close_price high_price low_price  \\\n",
      "0          AAPL  2024-09-27     228.46      227.79     229.52    227.30   \n",
      "1          AAPL  2024-09-26     227.30      227.52     228.50    225.41   \n",
      "2          AAPL  2024-09-25     224.93      226.37     227.29    224.02   \n",
      "3          AAPL  2024-09-24     228.65      227.37     229.35    225.73   \n",
      "4          AAPL  2024-09-23     227.34      226.47     229.45    225.81   \n",
      "\n",
      "     volume  \n",
      "0  34025967  \n",
      "1  36636707  \n",
      "2  42308715  \n",
      "3  43556068  \n",
      "4  54146023  \n"
     ]
    }
   ],
   "source": [
    "from stockdata.models import HistoricalData \n",
    "\n",
    "import pandas as pd \n",
    "\n",
    "from asgiref.sync import sync_to_async \n",
    "\n",
    "  \n",
    "\n",
    "async def fetch_data(): \n",
    "\n",
    "    # Fetch data asynchronously \n",
    "\n",
    "    data = await sync_to_async(list)(HistoricalData.objects.values( \n",
    "\n",
    "        'stock__symbol', 'date', 'open_price', 'close_price', 'high_price', 'low_price', 'volume' \n",
    "\n",
    "    )) \n",
    "\n",
    "     \n",
    "\n",
    "    # Convert to pandas DataFrame \n",
    "\n",
    "    df = pd.DataFrame(data) \n",
    "\n",
    "     \n",
    "\n",
    "    # Return or print the first few rows of the DataFrame \n",
    "\n",
    "    return df.head() \n",
    "\n",
    "  \n",
    "\n",
    "# Call the asynchronous function \n",
    "\n",
    "df_head = await fetch_data() \n",
    "\n",
    "print(df_head) "
   ]
  },
  {
   "cell_type": "code",
   "execution_count": 3,
   "id": "1c46d395-964a-44e9-ae40-0077f12b1e77",
   "metadata": {},
   "outputs": [
    {
     "name": "stderr",
     "output_type": "stream",
     "text": [
      "C:\\Users\\Win\\Desktop\\Project\\jupyter_env\\jupyter\\Lib\\site-packages\\keras\\src\\layers\\rnn\\rnn.py:204: UserWarning: Do not pass an `input_shape`/`input_dim` argument to a layer. When using Sequential models, prefer using an `Input(shape)` object as the first layer in the model instead.\n",
      "  super().__init__(**kwargs)\n"
     ]
    },
    {
     "name": "stdout",
     "output_type": "stream",
     "text": [
      "\u001b[1m55/55\u001b[0m \u001b[32m━━━━━━━━━━━━━━━━━━━━\u001b[0m\u001b[37m\u001b[0m \u001b[1m4s\u001b[0m 18ms/step - loss: 0.1617\n",
      "\u001b[1m1/1\u001b[0m \u001b[32m━━━━━━━━━━━━━━━━━━━━\u001b[0m\u001b[37m\u001b[0m \u001b[1m0s\u001b[0m 328ms/step\n"
     ]
    },
    {
     "ename": "NameError",
     "evalue": "name 'pickle' is not defined",
     "output_type": "error",
     "traceback": [
      "\u001b[1;31m---------------------------------------------------------------------------\u001b[0m",
      "\u001b[1;31mNameError\u001b[0m                                 Traceback (most recent call last)",
      "Cell \u001b[1;32mIn[3], line 70\u001b[0m\n\u001b[0;32m     68\u001b[0m \u001b[38;5;66;03m# Step 5: Run the prediction process\u001b[39;00m\n\u001b[0;32m     69\u001b[0m df \u001b[38;5;241m=\u001b[39m \u001b[38;5;28;01mawait\u001b[39;00m fetch_data()  \u001b[38;5;66;03m# Fetch the data\u001b[39;00m\n\u001b[1;32m---> 70\u001b[0m predictions \u001b[38;5;241m=\u001b[39m \u001b[43mprepare_lstm_data\u001b[49m\u001b[43m(\u001b[49m\u001b[43mdf\u001b[49m\u001b[43m)\u001b[49m  \u001b[38;5;66;03m# Prepare and predict\u001b[39;00m\n\u001b[0;32m     72\u001b[0m \u001b[38;5;66;03m# Print predictions for all stocks\u001b[39;00m\n\u001b[0;32m     73\u001b[0m \u001b[38;5;28mprint\u001b[39m(predictions)\n",
      "Cell \u001b[1;32mIn[3], line 64\u001b[0m, in \u001b[0;36mprepare_lstm_data\u001b[1;34m(df, time_step)\u001b[0m\n\u001b[0;32m     62\u001b[0m     model_filename \u001b[38;5;241m=\u001b[39m \u001b[38;5;124mf\u001b[39m\u001b[38;5;124m'\u001b[39m\u001b[38;5;124mmodel_\u001b[39m\u001b[38;5;132;01m{\u001b[39;00msymbol\u001b[38;5;132;01m}\u001b[39;00m\u001b[38;5;124m.pkl\u001b[39m\u001b[38;5;124m'\u001b[39m  \u001b[38;5;66;03m# Save each model with the stock symbol name\u001b[39;00m\n\u001b[0;32m     63\u001b[0m     \u001b[38;5;28;01mwith\u001b[39;00m \u001b[38;5;28mopen\u001b[39m(model_filename, \u001b[38;5;124m'\u001b[39m\u001b[38;5;124mwb\u001b[39m\u001b[38;5;124m'\u001b[39m) \u001b[38;5;28;01mas\u001b[39;00m model_file:\n\u001b[1;32m---> 64\u001b[0m         \u001b[43mpickle\u001b[49m\u001b[38;5;241m.\u001b[39mdump(model, model_file)  \u001b[38;5;66;03m# Save the model to a .pkl file\u001b[39;00m\n\u001b[0;32m     66\u001b[0m \u001b[38;5;28;01mreturn\u001b[39;00m predictions\n",
      "\u001b[1;31mNameError\u001b[0m: name 'pickle' is not defined"
     ]
    }
   ],
   "source": [
    "from stockdata.models import HistoricalData\n",
    "import pandas as pd\n",
    "from asgiref.sync import sync_to_async\n",
    "from sklearn.preprocessing import MinMaxScaler\n",
    "from tensorflow.keras.models import Sequential\n",
    "from tensorflow.keras.layers import LSTM, Dense\n",
    "import numpy as np\n",
    "\n",
    "# Step 1: Fetch data from the database asynchronously\n",
    "async def fetch_data():\n",
    "    # Fetch the stock data\n",
    "    data = await sync_to_async(list)(HistoricalData.objects.values(\n",
    "        'stock__symbol', 'date', 'open_price', 'close_price', 'high_price', 'low_price', 'volume'\n",
    "    ))\n",
    "\n",
    "    # Convert to pandas DataFrame\n",
    "    df = pd.DataFrame(data)\n",
    "    return df\n",
    "\n",
    "# Step 2: Prepare data for each stock symbol\n",
    "def prepare_lstm_data(df, time_step=60):\n",
    "    stock_symbols = df['stock__symbol'].unique()\n",
    "    predictions = {}\n",
    "\n",
    "    for symbol in stock_symbols:\n",
    "        stock_data = df[df['stock__symbol'] == symbol]\n",
    "        close_prices = stock_data['close_price'].values.reshape(-1, 1)\n",
    "\n",
    "        # Normalize data\n",
    "        scaler = MinMaxScaler(feature_range=(0, 1))\n",
    "        scaled_data = scaler.fit_transform(close_prices)\n",
    "\n",
    "        # Prepare training data\n",
    "        x_train, y_train = [], []\n",
    "        for i in range(len(scaled_data) - time_step):\n",
    "            x_train.append(scaled_data[i:i+time_step, 0])\n",
    "            y_train.append(scaled_data[i + time_step, 0])\n",
    "        \n",
    "        x_train, y_train = np.array(x_train), np.array(y_train)\n",
    "        x_train = x_train.reshape(x_train.shape[0], x_train.shape[1], 1)\n",
    "\n",
    "        # Step 3: Build and train LSTM model for each stock\n",
    "        model = Sequential()\n",
    "        model.add(LSTM(50, return_sequences=True, input_shape=(x_train.shape[1], 1)))\n",
    "        model.add(LSTM(50, return_sequences=False))\n",
    "        model.add(Dense(25))\n",
    "        model.add(Dense(1))\n",
    "\n",
    "        model.compile(optimizer='adam', loss='mean_squared_error')\n",
    "        model.fit(x_train, y_train, batch_size=1, epochs=1)\n",
    "\n",
    "        # Step 4: Predict the next day's price for each stock\n",
    "        last_60_days = scaled_data[-time_step:]\n",
    "        last_60_days = last_60_days.reshape(1, -1, 1)\n",
    "        predicted_price = model.predict(last_60_days)\n",
    "        predicted_price_actual = scaler.inverse_transform(predicted_price)\n",
    "\n",
    "        # Store predictions\n",
    "        predictions[symbol] = predicted_price_actual[0][0]\n",
    "\n",
    "        # Step 5: Save the trained model to a file for later use\n",
    "        model_filename = f'model_{symbol}.pkl'  # Save each model with the stock symbol name\n",
    "        with open(model_filename, 'wb') as model_file:\n",
    "            pickle.dump(model, model_file)  # Save the model to a .pkl file\n",
    "\n",
    "    return predictions\n",
    "\n",
    "# Step 5: Run the prediction process\n",
    "df = await fetch_data()  # Fetch the data\n",
    "predictions = prepare_lstm_data(df)  # Prepare and predict\n",
    "\n",
    "# Print predictions for all stocks\n",
    "print(predictions)"
   ]
  },
  {
   "cell_type": "code",
   "execution_count": 7,
   "id": "a22e1a57-3f7b-440b-8bb6-106a401f4090",
   "metadata": {},
   "outputs": [
    {
     "name": "stdout",
     "output_type": "stream",
     "text": [
      "Django setup complete\n",
      "Fetching data from the database...\n",
      "Fetched 115 records from the database\n",
      "Preparing LSTM data...\n",
      "Processing stock symbol: AAPL\n",
      "Building LSTM model for AAPL\n",
      "\u001b[1m55/55\u001b[0m \u001b[32m━━━━━━━━━━━━━━━━━━━━\u001b[0m\u001b[37m\u001b[0m \u001b[1m4s\u001b[0m 18ms/step - loss: 0.1015\n",
      "Predicting next price for AAPL\n",
      "\u001b[1m1/1\u001b[0m \u001b[32m━━━━━━━━━━━━━━━━━━━━\u001b[0m\u001b[37m\u001b[0m \u001b[1m0s\u001b[0m 302ms/step\n",
      "Model for AAPL saved to model_AAPL.pkl\n",
      "LSTM data preparation complete\n",
      "Predictions for all stocks: {'AAPL': 215.03683}\n"
     ]
    }
   ],
   "source": [
    "import os\n",
    "import sys\n",
    "import django\n",
    "from django.apps import apps\n",
    "import pickle  # Add this import to resolve the NameError\n",
    "import pandas as pd\n",
    "from asgiref.sync import sync_to_async\n",
    "from sklearn.preprocessing import MinMaxScaler\n",
    "from tensorflow.keras.models import Sequential\n",
    "from tensorflow.keras.layers import LSTM, Dense, Input  # Add Input import\n",
    "import numpy as np\n",
    "\n",
    "# Set the path to your Django project\n",
    "sys.path.append('C:/Users/Win/Desktop/Project/Stock Project')\n",
    "\n",
    "# Set the Django settings module\n",
    "os.environ.setdefault('DJANGO_SETTINGS_MODULE', 'stocks_simplified.settings')\n",
    "\n",
    "# Only run setup if Django is not already set up\n",
    "if not apps.ready:\n",
    "    django.setup()\n",
    "\n",
    "print(\"Django setup complete\")\n",
    "\n",
    "# Step 1: Fetch data from the database asynchronously\n",
    "async def fetch_data():\n",
    "    print(\"Fetching data from the database...\")\n",
    "    # Fetch the stock data\n",
    "    data = await sync_to_async(list)(HistoricalData.objects.values(\n",
    "        'stock__symbol', 'date', 'open_price', 'close_price', 'high_price', 'low_price', 'volume'\n",
    "    ))\n",
    "\n",
    "    # Convert to pandas DataFrame\n",
    "    df = pd.DataFrame(data)\n",
    "    print(f\"Fetched {len(df)} records from the database\")\n",
    "    return df\n",
    "\n",
    "# Step 2: Prepare data for each stock symbol\n",
    "def prepare_lstm_data(df, time_step=60):\n",
    "    print(\"Preparing LSTM data...\")\n",
    "    stock_symbols = df['stock__symbol'].unique()\n",
    "    predictions = {}\n",
    "\n",
    "    for symbol in stock_symbols:\n",
    "        print(f\"Processing stock symbol: {symbol}\")\n",
    "        stock_data = df[df['stock__symbol'] == symbol]\n",
    "        close_prices = stock_data['close_price'].values.reshape(-1, 1)\n",
    "\n",
    "        # Normalize data\n",
    "        scaler = MinMaxScaler(feature_range=(0, 1))\n",
    "        scaled_data = scaler.fit_transform(close_prices)\n",
    "\n",
    "        # Prepare training data\n",
    "        x_train, y_train = [], []\n",
    "        for i in range(len(scaled_data) - time_step):\n",
    "            x_train.append(scaled_data[i:i+time_step, 0])\n",
    "            y_train.append(scaled_data[i + time_step, 0])\n",
    "        \n",
    "        x_train, y_train = np.array(x_train), np.array(y_train)\n",
    "        x_train = x_train.reshape(x_train.shape[0], x_train.shape[1], 1)\n",
    "\n",
    "        # Step 3: Build and train LSTM model for each stock\n",
    "        print(f\"Building LSTM model for {symbol}\")\n",
    "        model = Sequential()\n",
    "        model.add(Input(shape=(x_train.shape[1], 1)))  # Replace input_shape argument with Input layer\n",
    "        model.add(LSTM(50, return_sequences=True))\n",
    "        model.add(LSTM(50, return_sequences=False))\n",
    "        model.add(Dense(25))\n",
    "        model.add(Dense(1))\n",
    "\n",
    "        model.compile(optimizer='adam', loss='mean_squared_error')\n",
    "        model.fit(x_train, y_train, batch_size=1, epochs=1)\n",
    "\n",
    "        # Step 4: Predict the next day's price for each stock\n",
    "        print(f\"Predicting next price for {symbol}\")\n",
    "        last_60_days = scaled_data[-time_step:]\n",
    "        last_60_days = last_60_days.reshape(1, -1, 1)\n",
    "        predicted_price = model.predict(last_60_days)\n",
    "        predicted_price_actual = scaler.inverse_transform(predicted_price)\n",
    "\n",
    "        # Store predictions\n",
    "        predictions[symbol] = predicted_price_actual[0][0]\n",
    "\n",
    "        # Step 5: Save the trained model to a file for later use\n",
    "        model_filename = f'model_{symbol}.pkl'  # Save each model with the stock symbol name\n",
    "        with open(model_filename, 'wb') as model_file:\n",
    "            pickle.dump(model, model_file)  # Save the model to a .pkl file\n",
    "\n",
    "        print(f\"Model for {symbol} saved to {model_filename}\")\n",
    "\n",
    "    print(\"LSTM data preparation complete\")\n",
    "    return predictions\n",
    "\n",
    "# Step 5: Run the prediction process\n",
    "df = await fetch_data()  # Fetch the data\n",
    "predictions = prepare_lstm_data(df)  # Prepare and predict\n",
    "\n",
    "# Print predictions for all stocks\n",
    "print(\"Predictions for all stocks:\", predictions)\n"
   ]
  },
  {
   "cell_type": "code",
   "execution_count": null,
   "id": "cea51c0a-e0a2-43ab-a988-55fbdc9792d1",
   "metadata": {},
   "outputs": [],
   "source": []
  }
 ],
 "metadata": {
  "kernelspec": {
   "display_name": "Python 3 (ipykernel)",
   "language": "python",
   "name": "python3"
  },
  "language_info": {
   "codemirror_mode": {
    "name": "ipython",
    "version": 3
   },
   "file_extension": ".py",
   "mimetype": "text/x-python",
   "name": "python",
   "nbconvert_exporter": "python",
   "pygments_lexer": "ipython3",
   "version": "3.11.4"
  }
 },
 "nbformat": 4,
 "nbformat_minor": 5
}
